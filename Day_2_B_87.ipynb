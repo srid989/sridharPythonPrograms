{
 "cells": [
  {
   "cell_type": "markdown",
   "id": "0c80167c-a186-4f01-8115-c9a8745f4c0d",
   "metadata": {},
   "source": [
    "### Introduction to Python Programming:"
   ]
  },
  {
   "cell_type": "markdown",
   "id": "de479dbe-cd08-40f2-989f-761af0b2149f",
   "metadata": {},
   "source": [
    "### Understanding the variables in Python:"
   ]
  },
  {
   "cell_type": "code",
   "execution_count": 1,
   "id": "922c7fc9-7b10-4edb-a5f5-688b0a7b601a",
   "metadata": {},
   "outputs": [
    {
     "name": "stdout",
     "output_type": "stream",
     "text": [
      "5\n"
     ]
    }
   ],
   "source": [
    "x=2\n",
    "y=3\n",
    "z=x+y\n",
    "print(z)"
   ]
  },
  {
   "cell_type": "markdown",
   "id": "91256d28-561d-4663-8969-bf743a34393a",
   "metadata": {},
   "source": [
    "### Rules for declaring variables in Python:"
   ]
  },
  {
   "cell_type": "markdown",
   "id": "b7e135c0-316d-4e28-abb0-6707ecab994f",
   "metadata": {},
   "source": [
    "### Rule 1: No namespace for declaring the variables in Python:"
   ]
  },
  {
   "cell_type": "code",
   "execution_count": 2,
   "id": "068abeb9-11d0-4460-92c8-d20bcd81aa48",
   "metadata": {},
   "outputs": [
    {
     "ename": "SyntaxError",
     "evalue": "invalid syntax (1425210699.py, line 1)",
     "output_type": "error",
     "traceback": [
      "\u001b[1;36m  Cell \u001b[1;32mIn[2], line 1\u001b[1;36m\u001b[0m\n\u001b[1;33m    first name = 'Fayaz'\u001b[0m\n\u001b[1;37m          ^\u001b[0m\n\u001b[1;31mSyntaxError\u001b[0m\u001b[1;31m:\u001b[0m invalid syntax\n"
     ]
    }
   ],
   "source": [
    "first name = 'Fayaz'\n",
    "print(first name)"
   ]
  },
  {
   "cell_type": "code",
   "execution_count": 3,
   "id": "3b372242-acf8-4730-943b-892282745f37",
   "metadata": {},
   "outputs": [
    {
     "name": "stdout",
     "output_type": "stream",
     "text": [
      "Fayaz\n"
     ]
    }
   ],
   "source": [
    "firstname='Fayaz'\n",
    "print(firstname)'"
   ]
  },
  {
   "cell_type": "markdown",
   "id": "77206e91-b382-4391-97db-4c815a6680b9",
   "metadata": {},
   "source": [
    "### Rule 2: A variable name should not start with a number: **"
   ]
  },
  {
   "cell_type": "code",
   "execution_count": 4,
   "id": "47da2681-3f10-42b4-b17c-83d615fbb0fa",
   "metadata": {},
   "outputs": [
    {
     "ename": "SyntaxError",
     "evalue": "invalid decimal literal (994579748.py, line 1)",
     "output_type": "error",
     "traceback": [
      "\u001b[1;36m  Cell \u001b[1;32mIn[4], line 1\u001b[1;36m\u001b[0m\n\u001b[1;33m    1name = 'Arvind'\u001b[0m\n\u001b[1;37m    ^\u001b[0m\n\u001b[1;31mSyntaxError\u001b[0m\u001b[1;31m:\u001b[0m invalid decimal literal\n"
     ]
    }
   ],
   "source": [
    "1name = 'Arvind'\n",
    "print(1name)"
   ]
  },
  {
   "cell_type": "code",
   "execution_count": 7,
   "id": "46973ac8-67b0-4557-b3ef-9ef5fd777e5c",
   "metadata": {},
   "outputs": [
    {
     "name": "stdout",
     "output_type": "stream",
     "text": [
      "Arvind\n"
     ]
    }
   ],
   "source": [
    "name1 = 'Arvind'\n",
    "print(name1)"
   ]
  },
  {
   "cell_type": "markdown",
   "id": "9df31261-feb1-4309-bb09-51a31da8f4e6",
   "metadata": {},
   "source": [
    "### Introduction to srting datatype:"
   ]
  },
  {
   "cell_type": "markdown",
   "id": "622942b3-172a-4bb5-b390-8445a4bf3f92",
   "metadata": {},
   "source": [
    "### A string is nothing but a series of characters declared within quotes.\n",
    "### Classification : It is classified as mutable datatype.\n",
    "### Declare a String =====> ?\n",
    "#### 1.Single quotes  ' '\n",
    "#### 2.Double quotes  \" \""
   ]
  },
  {
   "cell_type": "code",
   "execution_count": 8,
   "id": "c74cef6b-9f5f-4081-a878-d740dee709db",
   "metadata": {},
   "outputs": [
    {
     "name": "stdout",
     "output_type": "stream",
     "text": [
      "Raju\n"
     ]
    }
   ],
   "source": [
    "name  = 'Raju'\n",
    "print(name)"
   ]
  },
  {
   "cell_type": "code",
   "execution_count": 9,
   "id": "f390780f-2e5c-4a91-bdd4-fc1aa434cc62",
   "metadata": {},
   "outputs": [
    {
     "name": "stdout",
     "output_type": "stream",
     "text": [
      "Balu\n"
     ]
    }
   ],
   "source": [
    "name1= \"Balu\"\n",
    "print(name1)"
   ]
  },
  {
   "cell_type": "markdown",
   "id": "5cf55311-4bd6-483e-8553-0a8254c73c38",
   "metadata": {},
   "source": [
    "### Introduction to String Methods:"
   ]
  },
  {
   "cell_type": "code",
   "execution_count": 10,
   "id": "9a02bdb4-f958-4f10-b16b-fb1fe81954c4",
   "metadata": {},
   "outputs": [
    {
     "data": {
      "text/plain": [
       "str"
      ]
     },
     "execution_count": 10,
     "metadata": {},
     "output_type": "execute_result"
    }
   ],
   "source": [
    "type(name)"
   ]
  },
  {
   "cell_type": "code",
   "execution_count": 11,
   "id": "ce391e34-baf8-4cc7-b28d-e5a700a9b6e0",
   "metadata": {},
   "outputs": [
    {
     "data": {
      "text/plain": [
       "str"
      ]
     },
     "execution_count": 11,
     "metadata": {},
     "output_type": "execute_result"
    }
   ],
   "source": [
    "type(name1)"
   ]
  },
  {
   "cell_type": "code",
   "execution_count": 12,
   "id": "5be3c527-acc9-4eb7-b421-2717eb4d449b",
   "metadata": {},
   "outputs": [
    {
     "name": "stdout",
     "output_type": "stream",
     "text": [
      "shiva kumar\n"
     ]
    }
   ],
   "source": [
    "fullname = \"shiva kumar\"\n",
    "print(fullname)"
   ]
  },
  {
   "cell_type": "markdown",
   "id": "4e21dc82-0a1e-4859-9449-55d6eb45699d",
   "metadata": {},
   "source": [
    "### I want to correct the format.....?"
   ]
  },
  {
   "cell_type": "code",
   "execution_count": 13,
   "id": "4e0848fa-9b98-4a09-8a14-568382ede02b",
   "metadata": {},
   "outputs": [
    {
     "name": "stdout",
     "output_type": "stream",
     "text": [
      "Shiva Kumar\n"
     ]
    }
   ],
   "source": [
    "print(fullname.title())"
   ]
  },
  {
   "cell_type": "code",
   "execution_count": null,
   "id": "3507e5eb-12da-4c5e-99a1-72f4dffc6125",
   "metadata": {},
   "outputs": [],
   "source": []
  }
 ],
 "metadata": {
  "kernelspec": {
   "display_name": "Python 3 (ipykernel)",
   "language": "python",
   "name": "python3"
  },
  "language_info": {
   "codemirror_mode": {
    "name": "ipython",
    "version": 3
   },
   "file_extension": ".py",
   "mimetype": "text/x-python",
   "name": "python",
   "nbconvert_exporter": "python",
   "pygments_lexer": "ipython3",
   "version": "3.12.4"
  }
 },
 "nbformat": 4,
 "nbformat_minor": 5
}
