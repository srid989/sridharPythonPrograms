{
 "cells": [
  {
   "cell_type": "markdown",
   "id": "d614916e-672c-436c-8677-8bd162022c3b",
   "metadata": {},
   "source": [
    "continuation with strings "
   ]
  },
  {
   "cell_type": "code",
   "execution_count": null,
   "id": "87fc12c8-66e3-44be-9f36-8681d870cf84",
   "metadata": {},
   "outputs": [],
   "source": [
    "Organising the list datatype"
   ]
  },
  {
   "cell_type": "code",
   "execution_count": 3,
   "id": "a89f5ac3-c569-48b3-a8ec-1a4b782b0b06",
   "metadata": {},
   "outputs": [],
   "source": [
    "cars = ['maruti','bmw','kia','suzuki','volksvagon','benz','byd','tesla','audi']"
   ]
  },
  {
   "cell_type": "code",
   "execution_count": 4,
   "id": "04f774a8-f669-4df2-8376-ebe88ebf6e86",
   "metadata": {},
   "outputs": [
    {
     "name": "stdout",
     "output_type": "stream",
     "text": [
      "['maruti', 'bmw', 'kia', 'suzuki', 'volksvagon', 'benz', 'byd', 'tesla', 'audi']\n"
     ]
    }
   ],
   "source": [
    "print(cars)"
   ]
  },
  {
   "cell_type": "code",
   "execution_count": null,
   "id": "19a1eb09-8416-4758-8882-0fe7be8c6072",
   "metadata": {},
   "outputs": [],
   "source": [
    "# req: A-Z order:"
   ]
  },
  {
   "cell_type": "code",
   "execution_count": null,
   "id": "9d7cb68e-a90c-44a7-8da9-bb390a838c5b",
   "metadata": {},
   "outputs": [],
   "source": [
    "Two approaches:\n",
    "    1.Temporary approach : Sorted order =======> We will be getting back in original order.\n",
    "    2.Permanent approach : sort ======> Changes are applied permnently"
   ]
  },
  {
   "cell_type": "code",
   "execution_count": 5,
   "id": "da1181c7-5392-49d6-900a-dacff7d7effc",
   "metadata": {},
   "outputs": [
    {
     "name": "stdout",
     "output_type": "stream",
     "text": [
      "['audi', 'benz', 'bmw', 'byd', 'kia', 'maruti', 'suzuki', 'tesla', 'volksvagon']\n"
     ]
    }
   ],
   "source": [
    "print(sorted(cars))"
   ]
  },
  {
   "cell_type": "code",
   "execution_count": null,
   "id": "f5347805-0601-477a-9456-03fc4b302b61",
   "metadata": {},
   "outputs": [],
   "source": [
    "# audi, benz , bmw , kia"
   ]
  },
  {
   "cell_type": "code",
   "execution_count": null,
   "id": "e797484f-cbc6-4473-9726-a1917944c6af",
   "metadata": {},
   "outputs": [],
   "source": [
    "# B, B, B\n",
    "e, m, y"
   ]
  },
  {
   "cell_type": "code",
   "execution_count": 8,
   "id": "192011a4-31ef-42d8-ad63-21da4c919397",
   "metadata": {},
   "outputs": [],
   "source": [
    "cars.sort()"
   ]
  },
  {
   "cell_type": "code",
   "execution_count": 9,
   "id": "1ac4a65d-5bd4-451f-8d25-7e7cf02e62ff",
   "metadata": {},
   "outputs": [
    {
     "name": "stdout",
     "output_type": "stream",
     "text": [
      "['audi', 'benz', 'bmw', 'byd', 'kia', 'maruti', 'suzuki', 'tesla', 'volksvagon']\n"
     ]
    }
   ],
   "source": [
    "print(cars)"
   ]
  },
  {
   "cell_type": "code",
   "execution_count": null,
   "id": "8ca1462d-9883-4d8b-b12d-29c512cdbd08",
   "metadata": {},
   "outputs": [],
   "source": [
    "int question: what is the difference between sorted and sort in a list datatype....?"
   ]
  },
  {
   "cell_type": "code",
   "execution_count": null,
   "id": "f4092a7a-1efa-4186-ad3b-2e50f3ff2952",
   "metadata": {},
   "outputs": [],
   "source": []
  },
  {
   "cell_type": "code",
   "execution_count": null,
   "id": "0236d08a-16e0-4861-98b9-269cfa7004fd",
   "metadata": {},
   "outputs": [],
   "source": [
    "#   Req: I want to know, how many brands are there in the above list.....?"
   ]
  },
  {
   "cell_type": "code",
   "execution_count": 10,
   "id": "949e5990-c9b9-420f-8f91-ed1c23bfb930",
   "metadata": {},
   "outputs": [
    {
     "data": {
      "text/plain": [
       "9"
      ]
     },
     "execution_count": 10,
     "metadata": {},
     "output_type": "execute_result"
    }
   ],
   "source": [
    "len(cars)"
   ]
  },
  {
   "cell_type": "code",
   "execution_count": null,
   "id": "1f2ea240-e9eb-4e87-a45e-789cecfe04d2",
   "metadata": {},
   "outputs": [],
   "source": [
    "# Req: A to Z to be in Z to A order:"
   ]
  },
  {
   "cell_type": "code",
   "execution_count": 11,
   "id": "95b79107-5232-492c-a253-ecbe84ae6046",
   "metadata": {},
   "outputs": [],
   "source": [
    "cars.reverse()"
   ]
  },
  {
   "cell_type": "code",
   "execution_count": 12,
   "id": "331f7f3a-6821-449f-92b2-bfe64b8180fa",
   "metadata": {},
   "outputs": [
    {
     "name": "stdout",
     "output_type": "stream",
     "text": [
      "['volksvagon', 'tesla', 'suzuki', 'maruti', 'kia', 'byd', 'bmw', 'benz', 'audi']\n"
     ]
    }
   ],
   "source": [
    "print(cars)"
   ]
  },
  {
   "cell_type": "code",
   "execution_count": null,
   "id": "fc1e7513-0fb5-4fc7-8418-b30157372fea",
   "metadata": {},
   "outputs": [],
   "source": []
  },
  {
   "cell_type": "code",
   "execution_count": null,
   "id": "285066f6-597a-46b9-ba1c-28c23d5b2f3f",
   "metadata": {},
   "outputs": [],
   "source": [
    "Introduction to Slicing"
   ]
  },
  {
   "cell_type": "code",
   "execution_count": null,
   "id": "dd94230f-3084-49ac-b227-450796e0542c",
   "metadata": {},
   "outputs": [],
   "source": [
    "# General Syntax of Slicing:"
   ]
  },
  {
   "cell_type": "code",
   "execution_count": null,
   "id": "376d5dac-72d7-440a-af2e-6d1b1bf03716",
   "metadata": {},
   "outputs": [],
   "source": [
    "[start_value:stop_value:step_count]"
   ]
  },
  {
   "cell_type": "code",
   "execution_count": null,
   "id": "f65b83c7-6c6c-4539-82d0-f0758a55b67f",
   "metadata": {},
   "outputs": [],
   "source": [
    "Note : last_value/stop_value is always exclusive...to include the stop_value, We have to increment the index value by +1"
   ]
  },
  {
   "cell_type": "code",
   "execution_count": null,
   "id": "d50f8673-44cb-488d-ad72-bdd93227a5cf",
   "metadata": {},
   "outputs": [],
   "source": []
  },
  {
   "cell_type": "code",
   "execution_count": 14,
   "id": "0fb8cced-b354-4c65-9017-e32f32e19b81",
   "metadata": {},
   "outputs": [],
   "source": [
    "students = ['arvind', 'dinesh', 'naveed', 'joseph', 'pooa', 'adeeba', 'hafijunnisa', 'keerthi']"
   ]
  },
  {
   "cell_type": "code",
   "execution_count": 15,
   "id": "6fea7427-4440-4991-a293-28e1db5ccd82",
   "metadata": {},
   "outputs": [
    {
     "name": "stdout",
     "output_type": "stream",
     "text": [
      "['arvind', 'dinesh', 'naveed', 'joseph', 'pooa', 'adeeba', 'hafijunnisa', 'keerthi']\n"
     ]
    }
   ],
   "source": [
    "print(students)"
   ]
  },
  {
   "cell_type": "code",
   "execution_count": null,
   "id": "1785ef46-ecfe-4d75-9a36-3b6e80a4b3e0",
   "metadata": {},
   "outputs": [],
   "source": []
  },
  {
   "cell_type": "code",
   "execution_count": null,
   "id": "a1ae106c-9698-4699-aff4-7c027141c035",
   "metadata": {},
   "outputs": [],
   "source": [
    "# req: I want to include arvind and dinesh in the list.....?"
   ]
  },
  {
   "cell_type": "code",
   "execution_count": 16,
   "id": "0e42b104-1861-4352-9aca-bcfcafc9ab15",
   "metadata": {},
   "outputs": [
    {
     "name": "stdout",
     "output_type": "stream",
     "text": [
      "['arvind']\n"
     ]
    }
   ],
   "source": [
    "print(students[0:1])"
   ]
  },
  {
   "cell_type": "code",
   "execution_count": 17,
   "id": "d75c4042-045b-40cb-a412-9985f86d10cc",
   "metadata": {},
   "outputs": [
    {
     "name": "stdout",
     "output_type": "stream",
     "text": [
      "['arvind', 'dinesh']\n"
     ]
    }
   ],
   "source": [
    "print(students[0:2])"
   ]
  },
  {
   "cell_type": "code",
   "execution_count": null,
   "id": "2efdb390-9bcf-4d3e-bb05-2c1e882f39c7",
   "metadata": {},
   "outputs": [],
   "source": [
    "# req: print naveed and joseph in the output....?\n"
   ]
  },
  {
   "cell_type": "code",
   "execution_count": 18,
   "id": "aa5ce8fc-8745-469e-844b-f611ba6c2884",
   "metadata": {},
   "outputs": [
    {
     "name": "stdout",
     "output_type": "stream",
     "text": [
      "['naveed', 'joseph']\n"
     ]
    }
   ],
   "source": [
    "print(students[2:4])"
   ]
  },
  {
   "cell_type": "code",
   "execution_count": null,
   "id": "8780e927-867c-465e-9970-6bd49cc265cb",
   "metadata": {},
   "outputs": [],
   "source": [
    "# req : pooja and adeeba"
   ]
  },
  {
   "cell_type": "code",
   "execution_count": 19,
   "id": "2e134b97-975a-4697-bd28-429ad7b89ff3",
   "metadata": {},
   "outputs": [
    {
     "name": "stdout",
     "output_type": "stream",
     "text": [
      "['pooa', 'adeeba']\n"
     ]
    }
   ],
   "source": [
    "print(students[4:6])"
   ]
  },
  {
   "cell_type": "code",
   "execution_count": null,
   "id": "a636a5c8-cc1b-4329-98e9-1633e4032fee",
   "metadata": {},
   "outputs": [],
   "source": [
    "#req: hafijunnisa and keerthi"
   ]
  },
  {
   "cell_type": "code",
   "execution_count": 20,
   "id": "14fa4be9-05fb-41bd-b589-ac7a32864c72",
   "metadata": {},
   "outputs": [
    {
     "name": "stdout",
     "output_type": "stream",
     "text": [
      "['hafijunnisa', 'keerthi']\n"
     ]
    }
   ],
   "source": [
    "print(students[6:8])"
   ]
  },
  {
   "cell_type": "code",
   "execution_count": null,
   "id": "72eb2bc9-d5ac-44a4-b259-4a37dc33bac6",
   "metadata": {},
   "outputs": [],
   "source": []
  },
  {
   "cell_type": "code",
   "execution_count": null,
   "id": "ff834a1f-aae2-4149-962f-47c8c626eaa9",
   "metadata": {},
   "outputs": [],
   "source": [
    "# Implementation of step value:"
   ]
  },
  {
   "cell_type": "code",
   "execution_count": 21,
   "id": "5c8c7448-100a-40d6-88f9-37ac0db647b1",
   "metadata": {},
   "outputs": [
    {
     "name": "stdout",
     "output_type": "stream",
     "text": [
      "['arvind', 'dinesh', 'naveed', 'joseph', 'pooa', 'adeeba', 'hafijunnisa', 'keerthi']\n"
     ]
    }
   ],
   "source": [
    "print(students)"
   ]
  },
  {
   "cell_type": "code",
   "execution_count": 22,
   "id": "3ea4ad7b-6e43-4fa8-bab8-0883e08a19c2",
   "metadata": {},
   "outputs": [
    {
     "name": "stdout",
     "output_type": "stream",
     "text": [
      "['arvind', 'naveed', 'pooa', 'hafijunnisa']\n"
     ]
    }
   ],
   "source": [
    "print(students[0:8:2]) # 1st[index 0] item to last[index (7+1)] item with step_value 2"
   ]
  }
 ],
 "metadata": {
  "kernelspec": {
   "display_name": "Python 3 (ipykernel)",
   "language": "python",
   "name": "python3"
  },
  "language_info": {
   "codemirror_mode": {
    "name": "ipython",
    "version": 3
   },
   "file_extension": ".py",
   "mimetype": "text/x-python",
   "name": "python",
   "nbconvert_exporter": "python",
   "pygments_lexer": "ipython3",
   "version": "3.12.4"
  }
 },
 "nbformat": 4,
 "nbformat_minor": 5
}
