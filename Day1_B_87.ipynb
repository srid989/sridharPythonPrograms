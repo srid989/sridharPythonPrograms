{
 "cells": [
  {
   "cell_type": "markdown",
   "id": "a54bd456-45b8-4501-9e27-2f1f17d535a3",
   "metadata": {},
   "source": [
    "## Hello world Program Python:"
   ]
  },
  {
   "cell_type": "code",
   "execution_count": 3,
   "id": "1587ba3b-4a1f-4d98-b814-0c5d57b38e5d",
   "metadata": {},
   "outputs": [
    {
     "name": "stdout",
     "output_type": "stream",
     "text": [
      "hello world\n"
     ]
    }
   ],
   "source": [
    "print('hello world')"
   ]
  }
 ],
 "metadata": {
  "kernelspec": {
   "display_name": "Python 3 (ipykernel)",
   "language": "python",
   "name": "python3"
  },
  "language_info": {
   "codemirror_mode": {
    "name": "ipython",
    "version": 3
   },
   "file_extension": ".py",
   "mimetype": "text/x-python",
   "name": "python",
   "nbconvert_exporter": "python",
   "pygments_lexer": "ipython3",
   "version": "3.12.4"
  }
 },
 "nbformat": 4,
 "nbformat_minor": 5
}
