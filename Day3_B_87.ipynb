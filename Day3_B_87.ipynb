{
 "cells": [
  {
   "cell_type": "code",
   "execution_count": null,
   "id": "4c5a8f3c-905f-49ae-bf9f-7b1af73ee9e1",
   "metadata": {},
   "outputs": [],
   "source": [
    "continuation with python programming"
   ]
  },
  {
   "cell_type": "code",
   "execution_count": null,
   "id": "fc3dd4fe-c4f3-4954-a282-59b356f72463",
   "metadata": {},
   "outputs": [],
   "source": [
    "introduction to f strings :"
   ]
  },
  {
   "cell_type": "code",
   "execution_count": null,
   "id": "4d965950-d1fa-4d27-b617-57ff9fc2a708",
   "metadata": {},
   "outputs": [],
   "source": [
    "# General Syntax of f strings"
   ]
  },
  {
   "cell_type": "code",
   "execution_count": null,
   "id": "6cd471e8-ed84-4eaf-942a-09eb4f279633",
   "metadata": {},
   "outputs": [],
   "source": [
    "f\"custom message {placeholder_1} {placeholder_2}...... {placeholder_n}\"firstname =\"balu\"\n",
    "lastname = \"arvind\""
   ]
  },
  {
   "cell_type": "code",
   "execution_count": null,
   "id": "04a4edee-dbcf-40be-960e-716c831b9298",
   "metadata": {},
   "outputs": [],
   "source": [
    "firstname =\"balu\"\n",
    "lastname = \"arvind\""
   ]
  },
  {
   "cell_type": "code",
   "execution_count": null,
   "id": "83503604-5bd8-4b1f-9f69-953542971252",
   "metadata": {},
   "outputs": [],
   "source": [
    "# i want to get fullname.....?"
   ]
  },
  {
   "cell_type": "code",
   "execution_count": 11,
   "id": "9a9c1053-db22-4c15-a671-f07f5435bdaf",
   "metadata": {},
   "outputs": [
    {
     "name": "stdout",
     "output_type": "stream",
     "text": [
      "balu arvind\n"
     ]
    }
   ],
   "source": [
    "fullname = f\"{firstname} {lastname}\"\n",
    "print(fullname)"
   ]
  },
  {
   "cell_type": "code",
   "execution_count": 12,
   "id": "3d0a77a1-7a5d-4ec7-b2cb-941f432c3820",
   "metadata": {},
   "outputs": [
    {
     "name": "stdout",
     "output_type": "stream",
     "text": [
      "Balu Arvind\n"
     ]
    }
   ],
   "source": [
    "print(fullname.title())"
   ]
  },
  {
   "cell_type": "code",
   "execution_count": 18,
   "id": "83a8c95a-4755-43bd-916a-1a818c163a6e",
   "metadata": {},
   "outputs": [
    {
     "name": "stdout",
     "output_type": "stream",
     "text": [
      "Keep up the good work,Balu Arvind\n"
     ]
    }
   ],
   "source": [
    "message=f\"Keep up the good work,{fullname.title()}\"\n",
    "print(message)"
   ]
  },
  {
   "cell_type": "code",
   "execution_count": null,
   "id": "64af8c45-d899-40f6-93c8-cb95338514de",
   "metadata": {},
   "outputs": [],
   "source": [
    "Adding Whitespaces to Strings"
   ]
  },
  {
   "cell_type": "code",
   "execution_count": 1,
   "id": "ba78241e-1485-49e8-931b-2f917a5b5647",
   "metadata": {},
   "outputs": [
    {
     "name": "stdout",
     "output_type": "stream",
     "text": [
      "favourite_programming_language:pythonc++javacpascalcobol\n"
     ]
    }
   ],
   "source": [
    "print(\"favourite_programming_language:pythonc++javacpascalcobol\")"
   ]
  },
  {
   "cell_type": "code",
   "execution_count": 2,
   "id": "fe9e64db-1af9-4b90-aceb-e8ab7c64c118",
   "metadata": {},
   "outputs": [
    {
     "name": "stdout",
     "output_type": "stream",
     "text": [
      "favourite_programming_language:\n",
      "python\n",
      "c++\n",
      "java\n",
      "c\n",
      "pascal\n",
      "cobol\n"
     ]
    }
   ],
   "source": [
    "print(\"favourite_programming_language:\\npython\\nc++\\njava\\nc\\npascal\\ncobol\")"
   ]
  },
  {
   "cell_type": "code",
   "execution_count": null,
   "id": "d4b245f9-9ed2-4d59-8ddf-7b4efdb24ed0",
   "metadata": {},
   "outputs": [],
   "source": [
    "\\n ======>new line delimiter"
   ]
  },
  {
   "cell_type": "code",
   "execution_count": 3,
   "id": "65524cf1-d8cd-40fd-9e8e-bf63903151c5",
   "metadata": {},
   "outputs": [
    {
     "name": "stdout",
     "output_type": "stream",
     "text": [
      "favourite_programming_language:\n",
      "\tpython\n",
      "\tc++\n",
      "\tjava\n",
      "\tc\n",
      "\tpascal\n",
      "\tcobol\n"
     ]
    }
   ],
   "source": [
    "print(\"favourite_programming_language:\\n\\tpython\\n\\tc++\\n\\tjava\\n\\tc\\n\\tpascal\\n\\tcobol\")"
   ]
  },
  {
   "cell_type": "code",
   "execution_count": null,
   "id": "4d69e990-6468-40e6-8222-03bbfc75750d",
   "metadata": {},
   "outputs": [],
   "source": [
    "\\t ======> new tab delimiter"
   ]
  },
  {
   "cell_type": "code",
   "execution_count": 19,
   "id": "dfc81414-934f-4d75-a707-9353813191be",
   "metadata": {},
   "outputs": [
    {
     "name": "stdout",
     "output_type": "stream",
     "text": [
      "    python\n"
     ]
    }
   ],
   "source": [
    "name='    python'\n",
    "print(name)"
   ]
  },
  {
   "cell_type": "code",
   "execution_count": 20,
   "id": "add8c49c-1f65-41a7-9211-568112a3cb45",
   "metadata": {},
   "outputs": [
    {
     "name": "stdout",
     "output_type": "stream",
     "text": [
      "python\n"
     ]
    }
   ],
   "source": [
    "name1='python'\n",
    "print(name1)"
   ]
  },
  {
   "cell_type": "code",
   "execution_count": 21,
   "id": "fb1b76e7-bad7-44e4-a84e-1a7ef99a0b2e",
   "metadata": {},
   "outputs": [
    {
     "name": "stdout",
     "output_type": "stream",
     "text": [
      "python     \n"
     ]
    }
   ],
   "source": [
    "name2='python     '\n",
    "print(name2)"
   ]
  },
  {
   "cell_type": "code",
   "execution_count": null,
   "id": "3a12fd20-a9fd-48b0-896a-9b97b4384155",
   "metadata": {},
   "outputs": [],
   "source": [
    "left strip======>left\n",
    "right strip ===>right\n",
    "strip"
   ]
  },
  {
   "cell_type": "code",
   "execution_count": 22,
   "id": "ed90334a-e695-44e7-bca9-51bd89745658",
   "metadata": {},
   "outputs": [
    {
     "data": {
      "text/plain": [
       "'python'"
      ]
     },
     "execution_count": 22,
     "metadata": {},
     "output_type": "execute_result"
    }
   ],
   "source": [
    "name.lstrip()"
   ]
  },
  {
   "cell_type": "code",
   "execution_count": 23,
   "id": "9cd2bec2-1803-4621-8cbc-0aea9e316aef",
   "metadata": {},
   "outputs": [
    {
     "data": {
      "text/plain": [
       "'python'"
      ]
     },
     "execution_count": 23,
     "metadata": {},
     "output_type": "execute_result"
    }
   ],
   "source": [
    "name2.rstrip()"
   ]
  },
  {
   "cell_type": "code",
   "execution_count": null,
   "id": "c5aff4c6-00ba-4d22-8d42-f851bf5c8ade",
   "metadata": {},
   "outputs": [],
   "source": [
    "Zen of Python by Tim Peter\n",
    "\n",
    "Beautiful is better than ugly.\n",
    "Explicit is better than implicit.\n",
    "Simple is better than complex.\n",
    "Complex is better than complicated.\n",
    "Flat is better than nested.\n",
    "Sparse is better than dense.\n",
    "Readability counts.\n",
    "Special cases aren't special enough to break the rules.\n",
    "Although practicality beats purity.\n",
    "Errors should never pass silently.\n",
    "Unless explicitly silenced.\n",
    "In the face of ambiguity, refuse the temptation to guess.\n",
    "There should be one-- and preferably only one --obvious way to do it.\n",
    "Although that way may not be obvious at first unless you're Dutch.\n",
    "Now is better than never.\n",
    "Although never is often better than *right* now.\n",
    "If the implementation is hard to explain, it's a bad idea.\n",
    "If the implementation is easy to explain, it may be a good idea.\n",
    "Namespaces are one honking great idea -- let's do more of those!"
   ]
  }
 ],
 "metadata": {
  "kernelspec": {
   "display_name": "Python 3 (ipykernel)",
   "language": "python",
   "name": "python3"
  },
  "language_info": {
   "codemirror_mode": {
    "name": "ipython",
    "version": 3
   },
   "file_extension": ".py",
   "mimetype": "text/x-python",
   "name": "python",
   "nbconvert_exporter": "python",
   "pygments_lexer": "ipython3",
   "version": "3.12.4"
  }
 },
 "nbformat": 4,
 "nbformat_minor": 5
}
